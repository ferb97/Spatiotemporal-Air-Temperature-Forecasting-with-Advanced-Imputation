{
 "cells": [
  {
   "cell_type": "markdown",
   "metadata": {},
   "source": [
    "# Fill Missing Values using HourMean Imputation"
   ]
  },
  {
   "cell_type": "code",
   "execution_count": 2,
   "metadata": {},
   "outputs": [
    {
     "name": "stderr",
     "output_type": "stream",
     "text": [
      "C:\\Users\\Asus\\AppData\\Local\\Temp\\ipykernel_16528\\1634745692.py:30: FutureWarning: A value is trying to be set on a copy of a DataFrame or Series through chained assignment using an inplace method.\n",
      "The behavior will change in pandas 3.0. This inplace method will never work because the intermediate object on which we are setting values always behaves as a copy.\n",
      "\n",
      "For example, when doing 'df[col].method(value, inplace=True)', try using 'df.method({col: value}, inplace=True)' or df[col] = df[col].method(value) instead, to perform the operation inplace on the original object.\n",
      "\n",
      "\n",
      "  df[col].fillna(hour_means, inplace=True)\n"
     ]
    },
    {
     "name": "stdout",
     "output_type": "stream",
     "text": [
      "Filled missing values for UP002.csv\n",
      "From Date        0\n",
      "PM2.5 (ug/m3)    0\n",
      "PM10 (ug/m3)     0\n",
      "NO (ug/m3)       0\n",
      "NO2 (ug/m3)      0\n",
      "SO2 (ug/m3)      0\n",
      "CO (mg/m3)       0\n",
      "Ozone (ug/m3)    0\n",
      "RH (%)           0\n",
      "WS (m/s)         0\n",
      "WD (degree)      0\n",
      "AT (degree C)    0\n",
      "dtype: int64\n"
     ]
    },
    {
     "name": "stderr",
     "output_type": "stream",
     "text": [
      "C:\\Users\\Asus\\AppData\\Local\\Temp\\ipykernel_16528\\1634745692.py:30: FutureWarning: A value is trying to be set on a copy of a DataFrame or Series through chained assignment using an inplace method.\n",
      "The behavior will change in pandas 3.0. This inplace method will never work because the intermediate object on which we are setting values always behaves as a copy.\n",
      "\n",
      "For example, when doing 'df[col].method(value, inplace=True)', try using 'df.method({col: value}, inplace=True)' or df[col] = df[col].method(value) instead, to perform the operation inplace on the original object.\n",
      "\n",
      "\n",
      "  df[col].fillna(hour_means, inplace=True)\n"
     ]
    },
    {
     "name": "stdout",
     "output_type": "stream",
     "text": [
      "Filled missing values for UP003.csv\n",
      "From Date        0\n",
      "PM2.5 (ug/m3)    0\n",
      "PM10 (ug/m3)     0\n",
      "NO (ug/m3)       0\n",
      "NO2 (ug/m3)      0\n",
      "SO2 (ug/m3)      0\n",
      "CO (mg/m3)       0\n",
      "Ozone (ug/m3)    0\n",
      "RH (%)           0\n",
      "WS (m/s)         0\n",
      "WD (degree)      0\n",
      "AT (degree C)    0\n",
      "dtype: int64\n"
     ]
    },
    {
     "name": "stderr",
     "output_type": "stream",
     "text": [
      "C:\\Users\\Asus\\AppData\\Local\\Temp\\ipykernel_16528\\1634745692.py:30: FutureWarning: A value is trying to be set on a copy of a DataFrame or Series through chained assignment using an inplace method.\n",
      "The behavior will change in pandas 3.0. This inplace method will never work because the intermediate object on which we are setting values always behaves as a copy.\n",
      "\n",
      "For example, when doing 'df[col].method(value, inplace=True)', try using 'df.method({col: value}, inplace=True)' or df[col] = df[col].method(value) instead, to perform the operation inplace on the original object.\n",
      "\n",
      "\n",
      "  df[col].fillna(hour_means, inplace=True)\n",
      "C:\\Users\\Asus\\AppData\\Local\\Temp\\ipykernel_16528\\1634745692.py:30: FutureWarning: A value is trying to be set on a copy of a DataFrame or Series through chained assignment using an inplace method.\n",
      "The behavior will change in pandas 3.0. This inplace method will never work because the intermediate object on which we are setting values always behaves as a copy.\n",
      "\n",
      "For example, when doing 'df[col].method(value, inplace=True)', try using 'df.method({col: value}, inplace=True)' or df[col] = df[col].method(value) instead, to perform the operation inplace on the original object.\n",
      "\n",
      "\n",
      "  df[col].fillna(hour_means, inplace=True)\n"
     ]
    },
    {
     "name": "stdout",
     "output_type": "stream",
     "text": [
      "Filled missing values for UP004.csv\n",
      "From Date        0\n",
      "PM2.5 (ug/m3)    0\n",
      "PM10 (ug/m3)     0\n",
      "NO (ug/m3)       0\n",
      "NO2 (ug/m3)      0\n",
      "SO2 (ug/m3)      0\n",
      "CO (mg/m3)       0\n",
      "Ozone (ug/m3)    0\n",
      "RH (%)           0\n",
      "WS (m/s)         0\n",
      "WD (degree)      0\n",
      "AT (degree C)    0\n",
      "dtype: int64\n",
      "Filled missing values for UP008.csv\n",
      "From Date        0\n",
      "PM2.5 (ug/m3)    0\n",
      "PM10 (ug/m3)     0\n",
      "NO (ug/m3)       0\n",
      "NO2 (ug/m3)      0\n",
      "SO2 (ug/m3)      0\n",
      "CO (mg/m3)       0\n",
      "Ozone (ug/m3)    0\n",
      "RH (%)           0\n",
      "WS (m/s)         0\n",
      "WD (degree)      0\n",
      "AT (degree C)    0\n",
      "dtype: int64\n"
     ]
    },
    {
     "name": "stderr",
     "output_type": "stream",
     "text": [
      "C:\\Users\\Asus\\AppData\\Local\\Temp\\ipykernel_16528\\1634745692.py:30: FutureWarning: A value is trying to be set on a copy of a DataFrame or Series through chained assignment using an inplace method.\n",
      "The behavior will change in pandas 3.0. This inplace method will never work because the intermediate object on which we are setting values always behaves as a copy.\n",
      "\n",
      "For example, when doing 'df[col].method(value, inplace=True)', try using 'df.method({col: value}, inplace=True)' or df[col] = df[col].method(value) instead, to perform the operation inplace on the original object.\n",
      "\n",
      "\n",
      "  df[col].fillna(hour_means, inplace=True)\n"
     ]
    },
    {
     "name": "stdout",
     "output_type": "stream",
     "text": [
      "Filled missing values for UP009.csv\n",
      "From Date        0\n",
      "PM2.5 (ug/m3)    0\n",
      "PM10 (ug/m3)     0\n",
      "NO (ug/m3)       0\n",
      "NO2 (ug/m3)      0\n",
      "SO2 (ug/m3)      0\n",
      "CO (mg/m3)       0\n",
      "Ozone (ug/m3)    0\n",
      "RH (%)           0\n",
      "WS (m/s)         0\n",
      "WD (degree)      0\n",
      "AT (degree C)    0\n",
      "dtype: int64\n"
     ]
    },
    {
     "name": "stderr",
     "output_type": "stream",
     "text": [
      "C:\\Users\\Asus\\AppData\\Local\\Temp\\ipykernel_16528\\1634745692.py:30: FutureWarning: A value is trying to be set on a copy of a DataFrame or Series through chained assignment using an inplace method.\n",
      "The behavior will change in pandas 3.0. This inplace method will never work because the intermediate object on which we are setting values always behaves as a copy.\n",
      "\n",
      "For example, when doing 'df[col].method(value, inplace=True)', try using 'df.method({col: value}, inplace=True)' or df[col] = df[col].method(value) instead, to perform the operation inplace on the original object.\n",
      "\n",
      "\n",
      "  df[col].fillna(hour_means, inplace=True)\n"
     ]
    },
    {
     "name": "stdout",
     "output_type": "stream",
     "text": [
      "Filled missing values for UP012.csv\n",
      "From Date        0\n",
      "PM2.5 (ug/m3)    0\n",
      "PM10 (ug/m3)     0\n",
      "NO (ug/m3)       0\n",
      "NO2 (ug/m3)      0\n",
      "SO2 (ug/m3)      0\n",
      "CO (mg/m3)       0\n",
      "Ozone (ug/m3)    0\n",
      "RH (%)           0\n",
      "WS (m/s)         0\n",
      "WD (degree)      0\n",
      "AT (degree C)    0\n",
      "dtype: int64\n"
     ]
    },
    {
     "name": "stderr",
     "output_type": "stream",
     "text": [
      "C:\\Users\\Asus\\AppData\\Local\\Temp\\ipykernel_16528\\1634745692.py:30: FutureWarning: A value is trying to be set on a copy of a DataFrame or Series through chained assignment using an inplace method.\n",
      "The behavior will change in pandas 3.0. This inplace method will never work because the intermediate object on which we are setting values always behaves as a copy.\n",
      "\n",
      "For example, when doing 'df[col].method(value, inplace=True)', try using 'df.method({col: value}, inplace=True)' or df[col] = df[col].method(value) instead, to perform the operation inplace on the original object.\n",
      "\n",
      "\n",
      "  df[col].fillna(hour_means, inplace=True)\n"
     ]
    },
    {
     "name": "stdout",
     "output_type": "stream",
     "text": [
      "Filled missing values for UP014.csv\n",
      "From Date        0\n",
      "PM2.5 (ug/m3)    0\n",
      "PM10 (ug/m3)     0\n",
      "NO (ug/m3)       0\n",
      "NO2 (ug/m3)      0\n",
      "SO2 (ug/m3)      0\n",
      "CO (mg/m3)       0\n",
      "Ozone (ug/m3)    0\n",
      "RH (%)           0\n",
      "WS (m/s)         0\n",
      "WD (degree)      0\n",
      "AT (degree C)    0\n",
      "dtype: int64\n"
     ]
    },
    {
     "name": "stderr",
     "output_type": "stream",
     "text": [
      "C:\\Users\\Asus\\AppData\\Local\\Temp\\ipykernel_16528\\1634745692.py:30: FutureWarning: A value is trying to be set on a copy of a DataFrame or Series through chained assignment using an inplace method.\n",
      "The behavior will change in pandas 3.0. This inplace method will never work because the intermediate object on which we are setting values always behaves as a copy.\n",
      "\n",
      "For example, when doing 'df[col].method(value, inplace=True)', try using 'df.method({col: value}, inplace=True)' or df[col] = df[col].method(value) instead, to perform the operation inplace on the original object.\n",
      "\n",
      "\n",
      "  df[col].fillna(hour_means, inplace=True)\n"
     ]
    },
    {
     "name": "stdout",
     "output_type": "stream",
     "text": [
      "Filled missing values for UP016.csv\n",
      "From Date        0\n",
      "PM2.5 (ug/m3)    0\n",
      "PM10 (ug/m3)     0\n",
      "NO (ug/m3)       0\n",
      "NO2 (ug/m3)      0\n",
      "SO2 (ug/m3)      0\n",
      "CO (mg/m3)       0\n",
      "Ozone (ug/m3)    0\n",
      "RH (%)           0\n",
      "WS (m/s)         0\n",
      "WD (degree)      0\n",
      "AT (degree C)    0\n",
      "dtype: int64\n"
     ]
    },
    {
     "name": "stderr",
     "output_type": "stream",
     "text": [
      "C:\\Users\\Asus\\AppData\\Local\\Temp\\ipykernel_16528\\1634745692.py:30: FutureWarning: A value is trying to be set on a copy of a DataFrame or Series through chained assignment using an inplace method.\n",
      "The behavior will change in pandas 3.0. This inplace method will never work because the intermediate object on which we are setting values always behaves as a copy.\n",
      "\n",
      "For example, when doing 'df[col].method(value, inplace=True)', try using 'df.method({col: value}, inplace=True)' or df[col] = df[col].method(value) instead, to perform the operation inplace on the original object.\n",
      "\n",
      "\n",
      "  df[col].fillna(hour_means, inplace=True)\n"
     ]
    },
    {
     "name": "stdout",
     "output_type": "stream",
     "text": [
      "Filled missing values for UP017.csv\n",
      "From Date        0\n",
      "PM2.5 (ug/m3)    0\n",
      "PM10 (ug/m3)     0\n",
      "NO (ug/m3)       0\n",
      "NO2 (ug/m3)      0\n",
      "SO2 (ug/m3)      0\n",
      "CO (mg/m3)       0\n",
      "Ozone (ug/m3)    0\n",
      "RH (%)           0\n",
      "WS (m/s)         0\n",
      "WD (degree)      0\n",
      "AT (degree C)    0\n",
      "dtype: int64\n"
     ]
    },
    {
     "name": "stderr",
     "output_type": "stream",
     "text": [
      "C:\\Users\\Asus\\AppData\\Local\\Temp\\ipykernel_16528\\1634745692.py:30: FutureWarning: A value is trying to be set on a copy of a DataFrame or Series through chained assignment using an inplace method.\n",
      "The behavior will change in pandas 3.0. This inplace method will never work because the intermediate object on which we are setting values always behaves as a copy.\n",
      "\n",
      "For example, when doing 'df[col].method(value, inplace=True)', try using 'df.method({col: value}, inplace=True)' or df[col] = df[col].method(value) instead, to perform the operation inplace on the original object.\n",
      "\n",
      "\n",
      "  df[col].fillna(hour_means, inplace=True)\n"
     ]
    },
    {
     "name": "stdout",
     "output_type": "stream",
     "text": [
      "Filled missing values for UP018.csv\n",
      "From Date        0\n",
      "PM2.5 (ug/m3)    0\n",
      "PM10 (ug/m3)     0\n",
      "NO (ug/m3)       0\n",
      "NO2 (ug/m3)      0\n",
      "SO2 (ug/m3)      0\n",
      "CO (mg/m3)       0\n",
      "Ozone (ug/m3)    0\n",
      "RH (%)           0\n",
      "WS (m/s)         0\n",
      "WD (degree)      0\n",
      "AT (degree C)    0\n",
      "dtype: int64\n"
     ]
    },
    {
     "name": "stderr",
     "output_type": "stream",
     "text": [
      "C:\\Users\\Asus\\AppData\\Local\\Temp\\ipykernel_16528\\1634745692.py:30: FutureWarning: A value is trying to be set on a copy of a DataFrame or Series through chained assignment using an inplace method.\n",
      "The behavior will change in pandas 3.0. This inplace method will never work because the intermediate object on which we are setting values always behaves as a copy.\n",
      "\n",
      "For example, when doing 'df[col].method(value, inplace=True)', try using 'df.method({col: value}, inplace=True)' or df[col] = df[col].method(value) instead, to perform the operation inplace on the original object.\n",
      "\n",
      "\n",
      "  df[col].fillna(hour_means, inplace=True)\n"
     ]
    },
    {
     "name": "stdout",
     "output_type": "stream",
     "text": [
      "Filled missing values for UP019.csv\n",
      "From Date        0\n",
      "PM2.5 (ug/m3)    0\n",
      "PM10 (ug/m3)     0\n",
      "NO (ug/m3)       0\n",
      "NO2 (ug/m3)      0\n",
      "SO2 (ug/m3)      0\n",
      "CO (mg/m3)       0\n",
      "Ozone (ug/m3)    0\n",
      "RH (%)           0\n",
      "WS (m/s)         0\n",
      "WD (degree)      0\n",
      "AT (degree C)    0\n",
      "dtype: int64\n"
     ]
    },
    {
     "name": "stderr",
     "output_type": "stream",
     "text": [
      "C:\\Users\\Asus\\AppData\\Local\\Temp\\ipykernel_16528\\1634745692.py:30: FutureWarning: A value is trying to be set on a copy of a DataFrame or Series through chained assignment using an inplace method.\n",
      "The behavior will change in pandas 3.0. This inplace method will never work because the intermediate object on which we are setting values always behaves as a copy.\n",
      "\n",
      "For example, when doing 'df[col].method(value, inplace=True)', try using 'df.method({col: value}, inplace=True)' or df[col] = df[col].method(value) instead, to perform the operation inplace on the original object.\n",
      "\n",
      "\n",
      "  df[col].fillna(hour_means, inplace=True)\n"
     ]
    },
    {
     "name": "stdout",
     "output_type": "stream",
     "text": [
      "Filled missing values for UP020.csv\n",
      "From Date        0\n",
      "PM2.5 (ug/m3)    0\n",
      "PM10 (ug/m3)     0\n",
      "NO (ug/m3)       0\n",
      "NO2 (ug/m3)      0\n",
      "SO2 (ug/m3)      0\n",
      "CO (mg/m3)       0\n",
      "Ozone (ug/m3)    0\n",
      "RH (%)           0\n",
      "WS (m/s)         0\n",
      "WD (degree)      0\n",
      "AT (degree C)    0\n",
      "dtype: int64\n"
     ]
    },
    {
     "name": "stderr",
     "output_type": "stream",
     "text": [
      "C:\\Users\\Asus\\AppData\\Local\\Temp\\ipykernel_16528\\1634745692.py:30: FutureWarning: A value is trying to be set on a copy of a DataFrame or Series through chained assignment using an inplace method.\n",
      "The behavior will change in pandas 3.0. This inplace method will never work because the intermediate object on which we are setting values always behaves as a copy.\n",
      "\n",
      "For example, when doing 'df[col].method(value, inplace=True)', try using 'df.method({col: value}, inplace=True)' or df[col] = df[col].method(value) instead, to perform the operation inplace on the original object.\n",
      "\n",
      "\n",
      "  df[col].fillna(hour_means, inplace=True)\n"
     ]
    },
    {
     "name": "stdout",
     "output_type": "stream",
     "text": [
      "Filled missing values for UP021.csv\n",
      "From Date        0\n",
      "PM2.5 (ug/m3)    0\n",
      "PM10 (ug/m3)     0\n",
      "NO (ug/m3)       0\n",
      "NO2 (ug/m3)      0\n",
      "SO2 (ug/m3)      0\n",
      "CO (mg/m3)       0\n",
      "Ozone (ug/m3)    0\n",
      "RH (%)           0\n",
      "WS (m/s)         0\n",
      "WD (degree)      0\n",
      "AT (degree C)    0\n",
      "dtype: int64\n"
     ]
    },
    {
     "name": "stderr",
     "output_type": "stream",
     "text": [
      "C:\\Users\\Asus\\AppData\\Local\\Temp\\ipykernel_16528\\1634745692.py:30: FutureWarning: A value is trying to be set on a copy of a DataFrame or Series through chained assignment using an inplace method.\n",
      "The behavior will change in pandas 3.0. This inplace method will never work because the intermediate object on which we are setting values always behaves as a copy.\n",
      "\n",
      "For example, when doing 'df[col].method(value, inplace=True)', try using 'df.method({col: value}, inplace=True)' or df[col] = df[col].method(value) instead, to perform the operation inplace on the original object.\n",
      "\n",
      "\n",
      "  df[col].fillna(hour_means, inplace=True)\n"
     ]
    },
    {
     "name": "stdout",
     "output_type": "stream",
     "text": [
      "Filled missing values for UP022.csv\n",
      "From Date        0\n",
      "PM2.5 (ug/m3)    0\n",
      "PM10 (ug/m3)     0\n",
      "NO (ug/m3)       0\n",
      "NO2 (ug/m3)      0\n",
      "SO2 (ug/m3)      0\n",
      "CO (mg/m3)       0\n",
      "Ozone (ug/m3)    0\n",
      "RH (%)           0\n",
      "WS (m/s)         0\n",
      "WD (degree)      0\n",
      "AT (degree C)    0\n",
      "dtype: int64\n"
     ]
    },
    {
     "name": "stderr",
     "output_type": "stream",
     "text": [
      "C:\\Users\\Asus\\AppData\\Local\\Temp\\ipykernel_16528\\1634745692.py:30: FutureWarning: A value is trying to be set on a copy of a DataFrame or Series through chained assignment using an inplace method.\n",
      "The behavior will change in pandas 3.0. This inplace method will never work because the intermediate object on which we are setting values always behaves as a copy.\n",
      "\n",
      "For example, when doing 'df[col].method(value, inplace=True)', try using 'df.method({col: value}, inplace=True)' or df[col] = df[col].method(value) instead, to perform the operation inplace on the original object.\n",
      "\n",
      "\n",
      "  df[col].fillna(hour_means, inplace=True)\n"
     ]
    },
    {
     "name": "stdout",
     "output_type": "stream",
     "text": [
      "Filled missing values for UP023.csv\n",
      "From Date        0\n",
      "PM2.5 (ug/m3)    0\n",
      "PM10 (ug/m3)     0\n",
      "NO (ug/m3)       0\n",
      "NO2 (ug/m3)      0\n",
      "SO2 (ug/m3)      0\n",
      "CO (mg/m3)       0\n",
      "Ozone (ug/m3)    0\n",
      "RH (%)           0\n",
      "WS (m/s)         0\n",
      "WD (degree)      0\n",
      "AT (degree C)    0\n",
      "dtype: int64\n"
     ]
    },
    {
     "name": "stderr",
     "output_type": "stream",
     "text": [
      "C:\\Users\\Asus\\AppData\\Local\\Temp\\ipykernel_16528\\1634745692.py:30: FutureWarning: A value is trying to be set on a copy of a DataFrame or Series through chained assignment using an inplace method.\n",
      "The behavior will change in pandas 3.0. This inplace method will never work because the intermediate object on which we are setting values always behaves as a copy.\n",
      "\n",
      "For example, when doing 'df[col].method(value, inplace=True)', try using 'df.method({col: value}, inplace=True)' or df[col] = df[col].method(value) instead, to perform the operation inplace on the original object.\n",
      "\n",
      "\n",
      "  df[col].fillna(hour_means, inplace=True)\n"
     ]
    },
    {
     "name": "stdout",
     "output_type": "stream",
     "text": [
      "Filled missing values for UP024.csv\n",
      "From Date        0\n",
      "PM2.5 (ug/m3)    0\n",
      "PM10 (ug/m3)     0\n",
      "NO (ug/m3)       0\n",
      "NO2 (ug/m3)      0\n",
      "SO2 (ug/m3)      0\n",
      "CO (mg/m3)       0\n",
      "Ozone (ug/m3)    0\n",
      "RH (%)           0\n",
      "WS (m/s)         0\n",
      "WD (degree)      0\n",
      "AT (degree C)    0\n",
      "dtype: int64\n"
     ]
    },
    {
     "name": "stderr",
     "output_type": "stream",
     "text": [
      "C:\\Users\\Asus\\AppData\\Local\\Temp\\ipykernel_16528\\1634745692.py:30: FutureWarning: A value is trying to be set on a copy of a DataFrame or Series through chained assignment using an inplace method.\n",
      "The behavior will change in pandas 3.0. This inplace method will never work because the intermediate object on which we are setting values always behaves as a copy.\n",
      "\n",
      "For example, when doing 'df[col].method(value, inplace=True)', try using 'df.method({col: value}, inplace=True)' or df[col] = df[col].method(value) instead, to perform the operation inplace on the original object.\n",
      "\n",
      "\n",
      "  df[col].fillna(hour_means, inplace=True)\n"
     ]
    },
    {
     "name": "stdout",
     "output_type": "stream",
     "text": [
      "Filled missing values for UP025.csv\n",
      "From Date        0\n",
      "PM2.5 (ug/m3)    0\n",
      "PM10 (ug/m3)     0\n",
      "NO (ug/m3)       0\n",
      "NO2 (ug/m3)      0\n",
      "SO2 (ug/m3)      0\n",
      "CO (mg/m3)       0\n",
      "Ozone (ug/m3)    0\n",
      "RH (%)           0\n",
      "WS (m/s)         0\n",
      "WD (degree)      0\n",
      "AT (degree C)    0\n",
      "dtype: int64\n"
     ]
    },
    {
     "name": "stderr",
     "output_type": "stream",
     "text": [
      "C:\\Users\\Asus\\AppData\\Local\\Temp\\ipykernel_16528\\1634745692.py:30: FutureWarning: A value is trying to be set on a copy of a DataFrame or Series through chained assignment using an inplace method.\n",
      "The behavior will change in pandas 3.0. This inplace method will never work because the intermediate object on which we are setting values always behaves as a copy.\n",
      "\n",
      "For example, when doing 'df[col].method(value, inplace=True)', try using 'df.method({col: value}, inplace=True)' or df[col] = df[col].method(value) instead, to perform the operation inplace on the original object.\n",
      "\n",
      "\n",
      "  df[col].fillna(hour_means, inplace=True)\n"
     ]
    },
    {
     "name": "stdout",
     "output_type": "stream",
     "text": [
      "Filled missing values for UP026.csv\n",
      "From Date        0\n",
      "PM2.5 (ug/m3)    0\n",
      "PM10 (ug/m3)     0\n",
      "NO (ug/m3)       0\n",
      "NO2 (ug/m3)      0\n",
      "SO2 (ug/m3)      0\n",
      "CO (mg/m3)       0\n",
      "Ozone (ug/m3)    0\n",
      "RH (%)           0\n",
      "WS (m/s)         0\n",
      "WD (degree)      0\n",
      "AT (degree C)    0\n",
      "dtype: int64\n"
     ]
    },
    {
     "name": "stderr",
     "output_type": "stream",
     "text": [
      "C:\\Users\\Asus\\AppData\\Local\\Temp\\ipykernel_16528\\1634745692.py:30: FutureWarning: A value is trying to be set on a copy of a DataFrame or Series through chained assignment using an inplace method.\n",
      "The behavior will change in pandas 3.0. This inplace method will never work because the intermediate object on which we are setting values always behaves as a copy.\n",
      "\n",
      "For example, when doing 'df[col].method(value, inplace=True)', try using 'df.method({col: value}, inplace=True)' or df[col] = df[col].method(value) instead, to perform the operation inplace on the original object.\n",
      "\n",
      "\n",
      "  df[col].fillna(hour_means, inplace=True)\n"
     ]
    },
    {
     "name": "stdout",
     "output_type": "stream",
     "text": [
      "Filled missing values for UP028.csv\n",
      "From Date        0\n",
      "PM2.5 (ug/m3)    0\n",
      "PM10 (ug/m3)     0\n",
      "NO (ug/m3)       0\n",
      "NO2 (ug/m3)      0\n",
      "SO2 (ug/m3)      0\n",
      "CO (mg/m3)       0\n",
      "Ozone (ug/m3)    0\n",
      "RH (%)           0\n",
      "WS (m/s)         0\n",
      "WD (degree)      0\n",
      "AT (degree C)    0\n",
      "dtype: int64\n"
     ]
    },
    {
     "name": "stderr",
     "output_type": "stream",
     "text": [
      "C:\\Users\\Asus\\AppData\\Local\\Temp\\ipykernel_16528\\1634745692.py:30: FutureWarning: A value is trying to be set on a copy of a DataFrame or Series through chained assignment using an inplace method.\n",
      "The behavior will change in pandas 3.0. This inplace method will never work because the intermediate object on which we are setting values always behaves as a copy.\n",
      "\n",
      "For example, when doing 'df[col].method(value, inplace=True)', try using 'df.method({col: value}, inplace=True)' or df[col] = df[col].method(value) instead, to perform the operation inplace on the original object.\n",
      "\n",
      "\n",
      "  df[col].fillna(hour_means, inplace=True)\n"
     ]
    },
    {
     "name": "stdout",
     "output_type": "stream",
     "text": [
      "Filled missing values for UP029.csv\n",
      "From Date        0\n",
      "PM2.5 (ug/m3)    0\n",
      "PM10 (ug/m3)     0\n",
      "NO (ug/m3)       0\n",
      "NO2 (ug/m3)      0\n",
      "SO2 (ug/m3)      0\n",
      "CO (mg/m3)       0\n",
      "Ozone (ug/m3)    0\n",
      "RH (%)           0\n",
      "WS (m/s)         0\n",
      "WD (degree)      0\n",
      "AT (degree C)    0\n",
      "dtype: int64\n"
     ]
    },
    {
     "name": "stderr",
     "output_type": "stream",
     "text": [
      "C:\\Users\\Asus\\AppData\\Local\\Temp\\ipykernel_16528\\1634745692.py:30: FutureWarning: A value is trying to be set on a copy of a DataFrame or Series through chained assignment using an inplace method.\n",
      "The behavior will change in pandas 3.0. This inplace method will never work because the intermediate object on which we are setting values always behaves as a copy.\n",
      "\n",
      "For example, when doing 'df[col].method(value, inplace=True)', try using 'df.method({col: value}, inplace=True)' or df[col] = df[col].method(value) instead, to perform the operation inplace on the original object.\n",
      "\n",
      "\n",
      "  df[col].fillna(hour_means, inplace=True)\n"
     ]
    },
    {
     "name": "stdout",
     "output_type": "stream",
     "text": [
      "Filled missing values for UP030.csv\n",
      "From Date        0\n",
      "PM2.5 (ug/m3)    0\n",
      "PM10 (ug/m3)     0\n",
      "NO (ug/m3)       0\n",
      "NO2 (ug/m3)      0\n",
      "SO2 (ug/m3)      0\n",
      "CO (mg/m3)       0\n",
      "Ozone (ug/m3)    0\n",
      "RH (%)           0\n",
      "WS (m/s)         0\n",
      "WD (degree)      0\n",
      "AT (degree C)    0\n",
      "dtype: int64\n"
     ]
    },
    {
     "name": "stderr",
     "output_type": "stream",
     "text": [
      "C:\\Users\\Asus\\AppData\\Local\\Temp\\ipykernel_16528\\1634745692.py:30: FutureWarning: A value is trying to be set on a copy of a DataFrame or Series through chained assignment using an inplace method.\n",
      "The behavior will change in pandas 3.0. This inplace method will never work because the intermediate object on which we are setting values always behaves as a copy.\n",
      "\n",
      "For example, when doing 'df[col].method(value, inplace=True)', try using 'df.method({col: value}, inplace=True)' or df[col] = df[col].method(value) instead, to perform the operation inplace on the original object.\n",
      "\n",
      "\n",
      "  df[col].fillna(hour_means, inplace=True)\n"
     ]
    },
    {
     "name": "stdout",
     "output_type": "stream",
     "text": [
      "Filled missing values for UP031.csv\n",
      "From Date        0\n",
      "PM2.5 (ug/m3)    0\n",
      "PM10 (ug/m3)     0\n",
      "NO (ug/m3)       0\n",
      "NO2 (ug/m3)      0\n",
      "SO2 (ug/m3)      0\n",
      "CO (mg/m3)       0\n",
      "Ozone (ug/m3)    0\n",
      "RH (%)           0\n",
      "WS (m/s)         0\n",
      "WD (degree)      0\n",
      "AT (degree C)    0\n",
      "dtype: int64\n"
     ]
    },
    {
     "name": "stderr",
     "output_type": "stream",
     "text": [
      "C:\\Users\\Asus\\AppData\\Local\\Temp\\ipykernel_16528\\1634745692.py:30: FutureWarning: A value is trying to be set on a copy of a DataFrame or Series through chained assignment using an inplace method.\n",
      "The behavior will change in pandas 3.0. This inplace method will never work because the intermediate object on which we are setting values always behaves as a copy.\n",
      "\n",
      "For example, when doing 'df[col].method(value, inplace=True)', try using 'df.method({col: value}, inplace=True)' or df[col] = df[col].method(value) instead, to perform the operation inplace on the original object.\n",
      "\n",
      "\n",
      "  df[col].fillna(hour_means, inplace=True)\n"
     ]
    },
    {
     "name": "stdout",
     "output_type": "stream",
     "text": [
      "Filled missing values for UP032.csv\n",
      "From Date        0\n",
      "PM2.5 (ug/m3)    0\n",
      "PM10 (ug/m3)     0\n",
      "NO (ug/m3)       0\n",
      "NO2 (ug/m3)      0\n",
      "SO2 (ug/m3)      0\n",
      "CO (mg/m3)       0\n",
      "Ozone (ug/m3)    0\n",
      "RH (%)           0\n",
      "WS (m/s)         0\n",
      "WD (degree)      0\n",
      "AT (degree C)    0\n",
      "dtype: int64\n"
     ]
    },
    {
     "name": "stderr",
     "output_type": "stream",
     "text": [
      "C:\\Users\\Asus\\AppData\\Local\\Temp\\ipykernel_16528\\1634745692.py:30: FutureWarning: A value is trying to be set on a copy of a DataFrame or Series through chained assignment using an inplace method.\n",
      "The behavior will change in pandas 3.0. This inplace method will never work because the intermediate object on which we are setting values always behaves as a copy.\n",
      "\n",
      "For example, when doing 'df[col].method(value, inplace=True)', try using 'df.method({col: value}, inplace=True)' or df[col] = df[col].method(value) instead, to perform the operation inplace on the original object.\n",
      "\n",
      "\n",
      "  df[col].fillna(hour_means, inplace=True)\n"
     ]
    },
    {
     "name": "stdout",
     "output_type": "stream",
     "text": [
      "Filled missing values for UP033.csv\n",
      "From Date        0\n",
      "PM2.5 (ug/m3)    0\n",
      "PM10 (ug/m3)     0\n",
      "NO (ug/m3)       0\n",
      "NO2 (ug/m3)      0\n",
      "SO2 (ug/m3)      0\n",
      "CO (mg/m3)       0\n",
      "Ozone (ug/m3)    0\n",
      "RH (%)           0\n",
      "WS (m/s)         0\n",
      "WD (degree)      0\n",
      "AT (degree C)    0\n",
      "dtype: int64\n"
     ]
    },
    {
     "name": "stderr",
     "output_type": "stream",
     "text": [
      "C:\\Users\\Asus\\AppData\\Local\\Temp\\ipykernel_16528\\1634745692.py:30: FutureWarning: A value is trying to be set on a copy of a DataFrame or Series through chained assignment using an inplace method.\n",
      "The behavior will change in pandas 3.0. This inplace method will never work because the intermediate object on which we are setting values always behaves as a copy.\n",
      "\n",
      "For example, when doing 'df[col].method(value, inplace=True)', try using 'df.method({col: value}, inplace=True)' or df[col] = df[col].method(value) instead, to perform the operation inplace on the original object.\n",
      "\n",
      "\n",
      "  df[col].fillna(hour_means, inplace=True)\n"
     ]
    },
    {
     "name": "stdout",
     "output_type": "stream",
     "text": [
      "Filled missing values for UP034.csv\n",
      "From Date        0\n",
      "PM2.5 (ug/m3)    0\n",
      "PM10 (ug/m3)     0\n",
      "NO (ug/m3)       0\n",
      "NO2 (ug/m3)      0\n",
      "SO2 (ug/m3)      0\n",
      "CO (mg/m3)       0\n",
      "Ozone (ug/m3)    0\n",
      "RH (%)           0\n",
      "WS (m/s)         0\n",
      "WD (degree)      0\n",
      "AT (degree C)    0\n",
      "dtype: int64\n"
     ]
    },
    {
     "name": "stderr",
     "output_type": "stream",
     "text": [
      "C:\\Users\\Asus\\AppData\\Local\\Temp\\ipykernel_16528\\1634745692.py:30: FutureWarning: A value is trying to be set on a copy of a DataFrame or Series through chained assignment using an inplace method.\n",
      "The behavior will change in pandas 3.0. This inplace method will never work because the intermediate object on which we are setting values always behaves as a copy.\n",
      "\n",
      "For example, when doing 'df[col].method(value, inplace=True)', try using 'df.method({col: value}, inplace=True)' or df[col] = df[col].method(value) instead, to perform the operation inplace on the original object.\n",
      "\n",
      "\n",
      "  df[col].fillna(hour_means, inplace=True)\n"
     ]
    },
    {
     "name": "stdout",
     "output_type": "stream",
     "text": [
      "Filled missing values for UP035.csv\n",
      "From Date        0\n",
      "PM2.5 (ug/m3)    0\n",
      "PM10 (ug/m3)     0\n",
      "NO (ug/m3)       0\n",
      "NO2 (ug/m3)      0\n",
      "SO2 (ug/m3)      0\n",
      "CO (mg/m3)       0\n",
      "Ozone (ug/m3)    0\n",
      "RH (%)           0\n",
      "WS (m/s)         0\n",
      "WD (degree)      0\n",
      "AT (degree C)    0\n",
      "dtype: int64\n"
     ]
    },
    {
     "name": "stderr",
     "output_type": "stream",
     "text": [
      "C:\\Users\\Asus\\AppData\\Local\\Temp\\ipykernel_16528\\1634745692.py:30: FutureWarning: A value is trying to be set on a copy of a DataFrame or Series through chained assignment using an inplace method.\n",
      "The behavior will change in pandas 3.0. This inplace method will never work because the intermediate object on which we are setting values always behaves as a copy.\n",
      "\n",
      "For example, when doing 'df[col].method(value, inplace=True)', try using 'df.method({col: value}, inplace=True)' or df[col] = df[col].method(value) instead, to perform the operation inplace on the original object.\n",
      "\n",
      "\n",
      "  df[col].fillna(hour_means, inplace=True)\n"
     ]
    },
    {
     "name": "stdout",
     "output_type": "stream",
     "text": [
      "Filled missing values for UP036.csv\n",
      "From Date        0\n",
      "PM2.5 (ug/m3)    0\n",
      "PM10 (ug/m3)     0\n",
      "NO (ug/m3)       0\n",
      "NO2 (ug/m3)      0\n",
      "SO2 (ug/m3)      0\n",
      "CO (mg/m3)       0\n",
      "Ozone (ug/m3)    0\n",
      "RH (%)           0\n",
      "WS (m/s)         0\n",
      "WD (degree)      0\n",
      "AT (degree C)    0\n",
      "dtype: int64\n"
     ]
    },
    {
     "name": "stderr",
     "output_type": "stream",
     "text": [
      "C:\\Users\\Asus\\AppData\\Local\\Temp\\ipykernel_16528\\1634745692.py:30: FutureWarning: A value is trying to be set on a copy of a DataFrame or Series through chained assignment using an inplace method.\n",
      "The behavior will change in pandas 3.0. This inplace method will never work because the intermediate object on which we are setting values always behaves as a copy.\n",
      "\n",
      "For example, when doing 'df[col].method(value, inplace=True)', try using 'df.method({col: value}, inplace=True)' or df[col] = df[col].method(value) instead, to perform the operation inplace on the original object.\n",
      "\n",
      "\n",
      "  df[col].fillna(hour_means, inplace=True)\n"
     ]
    },
    {
     "name": "stdout",
     "output_type": "stream",
     "text": [
      "Filled missing values for UP037.csv\n",
      "From Date        0\n",
      "PM2.5 (ug/m3)    0\n",
      "PM10 (ug/m3)     0\n",
      "NO (ug/m3)       0\n",
      "NO2 (ug/m3)      0\n",
      "SO2 (ug/m3)      0\n",
      "CO (mg/m3)       0\n",
      "Ozone (ug/m3)    0\n",
      "RH (%)           0\n",
      "WS (m/s)         0\n",
      "WD (degree)      0\n",
      "AT (degree C)    0\n",
      "dtype: int64\n"
     ]
    },
    {
     "name": "stderr",
     "output_type": "stream",
     "text": [
      "C:\\Users\\Asus\\AppData\\Local\\Temp\\ipykernel_16528\\1634745692.py:30: FutureWarning: A value is trying to be set on a copy of a DataFrame or Series through chained assignment using an inplace method.\n",
      "The behavior will change in pandas 3.0. This inplace method will never work because the intermediate object on which we are setting values always behaves as a copy.\n",
      "\n",
      "For example, when doing 'df[col].method(value, inplace=True)', try using 'df.method({col: value}, inplace=True)' or df[col] = df[col].method(value) instead, to perform the operation inplace on the original object.\n",
      "\n",
      "\n",
      "  df[col].fillna(hour_means, inplace=True)\n"
     ]
    },
    {
     "name": "stdout",
     "output_type": "stream",
     "text": [
      "Filled missing values for UP038.csv\n",
      "From Date        0\n",
      "PM2.5 (ug/m3)    0\n",
      "PM10 (ug/m3)     0\n",
      "NO (ug/m3)       0\n",
      "NO2 (ug/m3)      0\n",
      "SO2 (ug/m3)      0\n",
      "CO (mg/m3)       0\n",
      "Ozone (ug/m3)    0\n",
      "RH (%)           0\n",
      "WS (m/s)         0\n",
      "WD (degree)      0\n",
      "AT (degree C)    0\n",
      "dtype: int64\n"
     ]
    },
    {
     "name": "stderr",
     "output_type": "stream",
     "text": [
      "C:\\Users\\Asus\\AppData\\Local\\Temp\\ipykernel_16528\\1634745692.py:30: FutureWarning: A value is trying to be set on a copy of a DataFrame or Series through chained assignment using an inplace method.\n",
      "The behavior will change in pandas 3.0. This inplace method will never work because the intermediate object on which we are setting values always behaves as a copy.\n",
      "\n",
      "For example, when doing 'df[col].method(value, inplace=True)', try using 'df.method({col: value}, inplace=True)' or df[col] = df[col].method(value) instead, to perform the operation inplace on the original object.\n",
      "\n",
      "\n",
      "  df[col].fillna(hour_means, inplace=True)\n"
     ]
    },
    {
     "name": "stdout",
     "output_type": "stream",
     "text": [
      "Filled missing values for UP039.csv\n",
      "From Date        0\n",
      "PM2.5 (ug/m3)    0\n",
      "PM10 (ug/m3)     0\n",
      "NO (ug/m3)       0\n",
      "NO2 (ug/m3)      0\n",
      "SO2 (ug/m3)      0\n",
      "CO (mg/m3)       0\n",
      "Ozone (ug/m3)    0\n",
      "RH (%)           0\n",
      "WS (m/s)         0\n",
      "WD (degree)      0\n",
      "AT (degree C)    0\n",
      "dtype: int64\n"
     ]
    },
    {
     "name": "stderr",
     "output_type": "stream",
     "text": [
      "C:\\Users\\Asus\\AppData\\Local\\Temp\\ipykernel_16528\\1634745692.py:30: FutureWarning: A value is trying to be set on a copy of a DataFrame or Series through chained assignment using an inplace method.\n",
      "The behavior will change in pandas 3.0. This inplace method will never work because the intermediate object on which we are setting values always behaves as a copy.\n",
      "\n",
      "For example, when doing 'df[col].method(value, inplace=True)', try using 'df.method({col: value}, inplace=True)' or df[col] = df[col].method(value) instead, to perform the operation inplace on the original object.\n",
      "\n",
      "\n",
      "  df[col].fillna(hour_means, inplace=True)\n"
     ]
    },
    {
     "name": "stdout",
     "output_type": "stream",
     "text": [
      "Filled missing values for UP040.csv\n",
      "From Date        0\n",
      "PM2.5 (ug/m3)    0\n",
      "PM10 (ug/m3)     0\n",
      "NO (ug/m3)       0\n",
      "NO2 (ug/m3)      0\n",
      "SO2 (ug/m3)      0\n",
      "CO (mg/m3)       0\n",
      "Ozone (ug/m3)    0\n",
      "RH (%)           0\n",
      "WS (m/s)         0\n",
      "WD (degree)      0\n",
      "AT (degree C)    0\n",
      "dtype: int64\n"
     ]
    },
    {
     "name": "stderr",
     "output_type": "stream",
     "text": [
      "C:\\Users\\Asus\\AppData\\Local\\Temp\\ipykernel_16528\\1634745692.py:30: FutureWarning: A value is trying to be set on a copy of a DataFrame or Series through chained assignment using an inplace method.\n",
      "The behavior will change in pandas 3.0. This inplace method will never work because the intermediate object on which we are setting values always behaves as a copy.\n",
      "\n",
      "For example, when doing 'df[col].method(value, inplace=True)', try using 'df.method({col: value}, inplace=True)' or df[col] = df[col].method(value) instead, to perform the operation inplace on the original object.\n",
      "\n",
      "\n",
      "  df[col].fillna(hour_means, inplace=True)\n"
     ]
    },
    {
     "name": "stdout",
     "output_type": "stream",
     "text": [
      "Filled missing values for UP041.csv\n",
      "From Date        0\n",
      "PM2.5 (ug/m3)    0\n",
      "PM10 (ug/m3)     0\n",
      "NO (ug/m3)       0\n",
      "NO2 (ug/m3)      0\n",
      "SO2 (ug/m3)      0\n",
      "CO (mg/m3)       0\n",
      "Ozone (ug/m3)    0\n",
      "RH (%)           0\n",
      "WS (m/s)         0\n",
      "WD (degree)      0\n",
      "AT (degree C)    0\n",
      "dtype: int64\n"
     ]
    },
    {
     "name": "stderr",
     "output_type": "stream",
     "text": [
      "C:\\Users\\Asus\\AppData\\Local\\Temp\\ipykernel_16528\\1634745692.py:30: FutureWarning: A value is trying to be set on a copy of a DataFrame or Series through chained assignment using an inplace method.\n",
      "The behavior will change in pandas 3.0. This inplace method will never work because the intermediate object on which we are setting values always behaves as a copy.\n",
      "\n",
      "For example, when doing 'df[col].method(value, inplace=True)', try using 'df.method({col: value}, inplace=True)' or df[col] = df[col].method(value) instead, to perform the operation inplace on the original object.\n",
      "\n",
      "\n",
      "  df[col].fillna(hour_means, inplace=True)\n"
     ]
    },
    {
     "name": "stdout",
     "output_type": "stream",
     "text": [
      "Filled missing values for UP042.csv\n",
      "From Date        0\n",
      "PM2.5 (ug/m3)    0\n",
      "PM10 (ug/m3)     0\n",
      "NO (ug/m3)       0\n",
      "NO2 (ug/m3)      0\n",
      "SO2 (ug/m3)      0\n",
      "CO (mg/m3)       0\n",
      "Ozone (ug/m3)    0\n",
      "RH (%)           0\n",
      "WS (m/s)         0\n",
      "WD (degree)      0\n",
      "AT (degree C)    0\n",
      "dtype: int64\n"
     ]
    },
    {
     "name": "stderr",
     "output_type": "stream",
     "text": [
      "C:\\Users\\Asus\\AppData\\Local\\Temp\\ipykernel_16528\\1634745692.py:30: FutureWarning: A value is trying to be set on a copy of a DataFrame or Series through chained assignment using an inplace method.\n",
      "The behavior will change in pandas 3.0. This inplace method will never work because the intermediate object on which we are setting values always behaves as a copy.\n",
      "\n",
      "For example, when doing 'df[col].method(value, inplace=True)', try using 'df.method({col: value}, inplace=True)' or df[col] = df[col].method(value) instead, to perform the operation inplace on the original object.\n",
      "\n",
      "\n",
      "  df[col].fillna(hour_means, inplace=True)\n"
     ]
    },
    {
     "name": "stdout",
     "output_type": "stream",
     "text": [
      "Filled missing values for UP043.csv\n",
      "From Date        0\n",
      "PM2.5 (ug/m3)    0\n",
      "PM10 (ug/m3)     0\n",
      "NO (ug/m3)       0\n",
      "NO2 (ug/m3)      0\n",
      "SO2 (ug/m3)      0\n",
      "CO (mg/m3)       0\n",
      "Ozone (ug/m3)    0\n",
      "RH (%)           0\n",
      "WS (m/s)         0\n",
      "WD (degree)      0\n",
      "AT (degree C)    0\n",
      "dtype: int64\n"
     ]
    },
    {
     "name": "stderr",
     "output_type": "stream",
     "text": [
      "C:\\Users\\Asus\\AppData\\Local\\Temp\\ipykernel_16528\\1634745692.py:30: FutureWarning: A value is trying to be set on a copy of a DataFrame or Series through chained assignment using an inplace method.\n",
      "The behavior will change in pandas 3.0. This inplace method will never work because the intermediate object on which we are setting values always behaves as a copy.\n",
      "\n",
      "For example, when doing 'df[col].method(value, inplace=True)', try using 'df.method({col: value}, inplace=True)' or df[col] = df[col].method(value) instead, to perform the operation inplace on the original object.\n",
      "\n",
      "\n",
      "  df[col].fillna(hour_means, inplace=True)\n"
     ]
    },
    {
     "name": "stdout",
     "output_type": "stream",
     "text": [
      "Filled missing values for UP044.csv\n",
      "From Date        0\n",
      "PM2.5 (ug/m3)    0\n",
      "PM10 (ug/m3)     0\n",
      "NO (ug/m3)       0\n",
      "NO2 (ug/m3)      0\n",
      "SO2 (ug/m3)      0\n",
      "CO (mg/m3)       0\n",
      "Ozone (ug/m3)    0\n",
      "RH (%)           0\n",
      "WS (m/s)         0\n",
      "WD (degree)      0\n",
      "AT (degree C)    0\n",
      "dtype: int64\n"
     ]
    },
    {
     "name": "stderr",
     "output_type": "stream",
     "text": [
      "C:\\Users\\Asus\\AppData\\Local\\Temp\\ipykernel_16528\\1634745692.py:30: FutureWarning: A value is trying to be set on a copy of a DataFrame or Series through chained assignment using an inplace method.\n",
      "The behavior will change in pandas 3.0. This inplace method will never work because the intermediate object on which we are setting values always behaves as a copy.\n",
      "\n",
      "For example, when doing 'df[col].method(value, inplace=True)', try using 'df.method({col: value}, inplace=True)' or df[col] = df[col].method(value) instead, to perform the operation inplace on the original object.\n",
      "\n",
      "\n",
      "  df[col].fillna(hour_means, inplace=True)\n"
     ]
    },
    {
     "name": "stdout",
     "output_type": "stream",
     "text": [
      "Filled missing values for UP046.csv\n",
      "From Date        0\n",
      "PM2.5 (ug/m3)    0\n",
      "PM10 (ug/m3)     0\n",
      "NO (ug/m3)       0\n",
      "NO2 (ug/m3)      0\n",
      "SO2 (ug/m3)      0\n",
      "CO (mg/m3)       0\n",
      "Ozone (ug/m3)    0\n",
      "RH (%)           0\n",
      "WS (m/s)         0\n",
      "WD (degree)      0\n",
      "AT (degree C)    0\n",
      "dtype: int64\n"
     ]
    },
    {
     "name": "stderr",
     "output_type": "stream",
     "text": [
      "C:\\Users\\Asus\\AppData\\Local\\Temp\\ipykernel_16528\\1634745692.py:30: FutureWarning: A value is trying to be set on a copy of a DataFrame or Series through chained assignment using an inplace method.\n",
      "The behavior will change in pandas 3.0. This inplace method will never work because the intermediate object on which we are setting values always behaves as a copy.\n",
      "\n",
      "For example, when doing 'df[col].method(value, inplace=True)', try using 'df.method({col: value}, inplace=True)' or df[col] = df[col].method(value) instead, to perform the operation inplace on the original object.\n",
      "\n",
      "\n",
      "  df[col].fillna(hour_means, inplace=True)\n"
     ]
    },
    {
     "name": "stdout",
     "output_type": "stream",
     "text": [
      "Filled missing values for UP048.csv\n",
      "From Date        0\n",
      "PM2.5 (ug/m3)    0\n",
      "PM10 (ug/m3)     0\n",
      "NO (ug/m3)       0\n",
      "NO2 (ug/m3)      0\n",
      "SO2 (ug/m3)      0\n",
      "CO (mg/m3)       0\n",
      "Ozone (ug/m3)    0\n",
      "RH (%)           0\n",
      "WS (m/s)         0\n",
      "WD (degree)      0\n",
      "AT (degree C)    0\n",
      "dtype: int64\n"
     ]
    },
    {
     "name": "stderr",
     "output_type": "stream",
     "text": [
      "C:\\Users\\Asus\\AppData\\Local\\Temp\\ipykernel_16528\\1634745692.py:30: FutureWarning: A value is trying to be set on a copy of a DataFrame or Series through chained assignment using an inplace method.\n",
      "The behavior will change in pandas 3.0. This inplace method will never work because the intermediate object on which we are setting values always behaves as a copy.\n",
      "\n",
      "For example, when doing 'df[col].method(value, inplace=True)', try using 'df.method({col: value}, inplace=True)' or df[col] = df[col].method(value) instead, to perform the operation inplace on the original object.\n",
      "\n",
      "\n",
      "  df[col].fillna(hour_means, inplace=True)\n"
     ]
    },
    {
     "name": "stdout",
     "output_type": "stream",
     "text": [
      "Filled missing values for UP049.csv\n",
      "From Date        0\n",
      "PM2.5 (ug/m3)    0\n",
      "PM10 (ug/m3)     0\n",
      "NO (ug/m3)       0\n",
      "NO2 (ug/m3)      0\n",
      "SO2 (ug/m3)      0\n",
      "CO (mg/m3)       0\n",
      "Ozone (ug/m3)    0\n",
      "RH (%)           0\n",
      "WS (m/s)         0\n",
      "WD (degree)      0\n",
      "AT (degree C)    0\n",
      "dtype: int64\n"
     ]
    },
    {
     "name": "stderr",
     "output_type": "stream",
     "text": [
      "C:\\Users\\Asus\\AppData\\Local\\Temp\\ipykernel_16528\\1634745692.py:30: FutureWarning: A value is trying to be set on a copy of a DataFrame or Series through chained assignment using an inplace method.\n",
      "The behavior will change in pandas 3.0. This inplace method will never work because the intermediate object on which we are setting values always behaves as a copy.\n",
      "\n",
      "For example, when doing 'df[col].method(value, inplace=True)', try using 'df.method({col: value}, inplace=True)' or df[col] = df[col].method(value) instead, to perform the operation inplace on the original object.\n",
      "\n",
      "\n",
      "  df[col].fillna(hour_means, inplace=True)\n"
     ]
    },
    {
     "name": "stdout",
     "output_type": "stream",
     "text": [
      "Filled missing values for UP050.csv\n",
      "From Date        0\n",
      "PM2.5 (ug/m3)    0\n",
      "PM10 (ug/m3)     0\n",
      "NO (ug/m3)       0\n",
      "NO2 (ug/m3)      0\n",
      "SO2 (ug/m3)      0\n",
      "CO (mg/m3)       0\n",
      "Ozone (ug/m3)    0\n",
      "RH (%)           0\n",
      "WS (m/s)         0\n",
      "WD (degree)      0\n",
      "AT (degree C)    0\n",
      "dtype: int64\n"
     ]
    },
    {
     "name": "stderr",
     "output_type": "stream",
     "text": [
      "C:\\Users\\Asus\\AppData\\Local\\Temp\\ipykernel_16528\\1634745692.py:30: FutureWarning: A value is trying to be set on a copy of a DataFrame or Series through chained assignment using an inplace method.\n",
      "The behavior will change in pandas 3.0. This inplace method will never work because the intermediate object on which we are setting values always behaves as a copy.\n",
      "\n",
      "For example, when doing 'df[col].method(value, inplace=True)', try using 'df.method({col: value}, inplace=True)' or df[col] = df[col].method(value) instead, to perform the operation inplace on the original object.\n",
      "\n",
      "\n",
      "  df[col].fillna(hour_means, inplace=True)\n"
     ]
    },
    {
     "name": "stdout",
     "output_type": "stream",
     "text": [
      "Filled missing values for UP051.csv\n",
      "From Date        0\n",
      "PM2.5 (ug/m3)    0\n",
      "PM10 (ug/m3)     0\n",
      "NO (ug/m3)       0\n",
      "NO2 (ug/m3)      0\n",
      "SO2 (ug/m3)      0\n",
      "CO (mg/m3)       0\n",
      "Ozone (ug/m3)    0\n",
      "RH (%)           0\n",
      "WS (m/s)         0\n",
      "WD (degree)      0\n",
      "AT (degree C)    0\n",
      "dtype: int64\n"
     ]
    },
    {
     "name": "stderr",
     "output_type": "stream",
     "text": [
      "C:\\Users\\Asus\\AppData\\Local\\Temp\\ipykernel_16528\\1634745692.py:30: FutureWarning: A value is trying to be set on a copy of a DataFrame or Series through chained assignment using an inplace method.\n",
      "The behavior will change in pandas 3.0. This inplace method will never work because the intermediate object on which we are setting values always behaves as a copy.\n",
      "\n",
      "For example, when doing 'df[col].method(value, inplace=True)', try using 'df.method({col: value}, inplace=True)' or df[col] = df[col].method(value) instead, to perform the operation inplace on the original object.\n",
      "\n",
      "\n",
      "  df[col].fillna(hour_means, inplace=True)\n"
     ]
    },
    {
     "name": "stdout",
     "output_type": "stream",
     "text": [
      "Filled missing values for UP052.csv\n",
      "From Date        0\n",
      "PM2.5 (ug/m3)    0\n",
      "PM10 (ug/m3)     0\n",
      "NO (ug/m3)       0\n",
      "NO2 (ug/m3)      0\n",
      "SO2 (ug/m3)      0\n",
      "CO (mg/m3)       0\n",
      "Ozone (ug/m3)    0\n",
      "RH (%)           0\n",
      "WS (m/s)         0\n",
      "WD (degree)      0\n",
      "AT (degree C)    0\n",
      "dtype: int64\n",
      "Missing values filled and files saved to 'Input_Folder_without_Nan_HourMean'.\n"
     ]
    }
   ],
   "source": [
    "import pandas as pd\n",
    "import os\n",
    "\n",
    "# Define input and output folders\n",
    "input_folder = 'Input_Folder_for_GNN'\n",
    "output_folder = 'Input_Folder_without_Nan_HourMean'\n",
    "\n",
    "# Create the output folder if it doesn't exist\n",
    "os.makedirs(output_folder, exist_ok=True)\n",
    "\n",
    "# Loop through each file in the input folder\n",
    "for file_name in os.listdir(input_folder):\n",
    "    if file_name.endswith('.csv'):\n",
    "        file_path = os.path.join(input_folder, file_name)\n",
    "        \n",
    "        # Read the CSV file\n",
    "        df = pd.read_csv(file_path)\n",
    "        \n",
    "        # Convert 'From Date' to datetime format if not already\n",
    "        df['From Date'] = pd.to_datetime(df['From Date'])\n",
    "        \n",
    "        # Extract hour from 'From Date'\n",
    "        df['Hour'] = df['From Date'].dt.hour\n",
    "        \n",
    "        # Fill missing values using hour-wise mean\n",
    "        for col in df.columns:\n",
    "            if col not in ['From Date', 'Hour']:\n",
    "                # Group by 'Hour' and calculate mean, then fill NaNs\n",
    "                hour_means = df.groupby('Hour')[col].transform('mean')\n",
    "                df[col].fillna(hour_means, inplace=True)\n",
    "        \n",
    "        # Drop the 'Hour' column after filling\n",
    "        df.drop(columns=['Hour'], inplace=True)\n",
    "\n",
    "        print(f\"Filled missing values for {file_name}\")\n",
    "        # Print the missing values count after filling\n",
    "        print(df.isnull().sum())\n",
    "        \n",
    "        # Save the file to the output folder\n",
    "        output_path = os.path.join(output_folder, file_name)\n",
    "        df.to_csv(output_path, index=False)\n",
    "\n",
    "print(\"Missing values filled and files saved to 'Input_Folder_without_Nan_HourMean'.\")\n"
   ]
  }
 ],
 "metadata": {
  "kernelspec": {
   "display_name": "Python 3",
   "language": "python",
   "name": "python3"
  },
  "language_info": {
   "codemirror_mode": {
    "name": "ipython",
    "version": 3
   },
   "file_extension": ".py",
   "mimetype": "text/x-python",
   "name": "python",
   "nbconvert_exporter": "python",
   "pygments_lexer": "ipython3",
   "version": "3.11.5"
  }
 },
 "nbformat": 4,
 "nbformat_minor": 2
}
